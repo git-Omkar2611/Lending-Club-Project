{
 "cells": [
  {
   "cell_type": "code",
   "execution_count": 1,
   "id": "30e5b4b6",
   "metadata": {},
   "outputs": [],
   "source": [
    "from pyspark.sql import SparkSession\n",
    "from pyspark.sql.types import *\n",
    "from pyspark.sql.functions import *\n",
    "import getpass\n",
    "\n",
    "username = getpass.getuser()"
   ]
  },
  {
   "cell_type": "code",
   "execution_count": 2,
   "id": "afd61612",
   "metadata": {},
   "outputs": [],
   "source": [
    "spark = SparkSession.\\\n",
    "        builder.\\\n",
    "        config('spark.ui.port','0').\\\n",
    "        config('spark.sql.warehouse.dir',f'/user/{username}/warehouse').\\\n",
    "        config('spark.shuffle.useOldFetchProtocol','true').\\\n",
    "        enableHiveSupport().\\\n",
    "        master('yarn').\\\n",
    "        getOrCreate()\n"
   ]
  },
  {
   "cell_type": "code",
   "execution_count": 3,
   "id": "98a04116",
   "metadata": {},
   "outputs": [],
   "source": [
    "customer_schema = \"member_id string , emp_title string , emp_length string , home_ownership string , annual_inc float, addr_state string , zip_code string , country string , grade string , sub_grade string , verification_status string , total_high_credit_limit float , application_type string , annual_inc_joint float , verification_status_joint string\""
   ]
  },
  {
   "cell_type": "code",
   "execution_count": 4,
   "id": "088067c7",
   "metadata": {},
   "outputs": [],
   "source": [
    "customer_raw_df = spark .read.csv(\"/user/itv015278/lendingclubproject/raw/customers_data_csv\",header = True , schema = customer_schema) "
   ]
  },
  {
   "cell_type": "code",
   "execution_count": 5,
   "id": "33aa9234",
   "metadata": {},
   "outputs": [],
   "source": [
    "renamed_customer_raw_df = customer_raw_df.withColumnRenamed(\"annual_inc\" , \"annual_income\").withColumnRenamed(\"addr_state\",\"address_state\").withColumnRenamed(\"zip_code\",\"address_zipcode\").withColumnRenamed(\"country\",\"address_country\").withColumnRenamed(\"tot_hi_cred_limit\",\"total_high_credit_limit\").withColumnRenamed(\"annual_inc_joint\",\"join_annual_income\")"
   ]
  },
  {
   "cell_type": "code",
   "execution_count": 6,
   "id": "c9a9a8ef",
   "metadata": {},
   "outputs": [],
   "source": [
    "transformed_customer_df = renamed_customer_raw_df.withColumn(\"ingest_date\",current_timestamp())"
   ]
  },
  {
   "cell_type": "code",
   "execution_count": 7,
   "id": "66630999",
   "metadata": {},
   "outputs": [],
   "source": [
    "distinct_customers = transformed_customer_df.distinct()"
   ]
  },
  {
   "cell_type": "code",
   "execution_count": 8,
   "id": "96db28cb",
   "metadata": {},
   "outputs": [],
   "source": [
    "distinct_customers.createOrReplaceTempView(\"customers\")"
   ]
  },
  {
   "cell_type": "code",
   "execution_count": 9,
   "id": "2478b97c",
   "metadata": {},
   "outputs": [],
   "source": [
    "customer_income_filtered = spark.sql(\"select * from customers where annual_income is NOT NULL\")"
   ]
  },
  {
   "cell_type": "code",
   "execution_count": 10,
   "id": "1b8e54f8",
   "metadata": {},
   "outputs": [],
   "source": [
    "customer_income_filtered.createOrReplaceTempView(\"customers\")"
   ]
  },
  {
   "cell_type": "code",
   "execution_count": 11,
   "id": "f946c4ad",
   "metadata": {},
   "outputs": [],
   "source": [
    "customer_emp_length_cleaned = customer_income_filtered.withColumn(\"emp_length\",regexp_replace(col(\"emp_length\") , \"(\\D)\" , \"\" ))"
   ]
  },
  {
   "cell_type": "code",
   "execution_count": 12,
   "id": "09fef11a",
   "metadata": {},
   "outputs": [],
   "source": [
    "customer_emplength_casted =  customer_emp_length_cleaned.withColumn(\"emp_length\",customer_emp_length_cleaned.emp_length.cast('int'))"
   ]
  },
  {
   "cell_type": "code",
   "execution_count": 13,
   "id": "0e8544b3",
   "metadata": {},
   "outputs": [],
   "source": [
    "customer_emplength_casted.createOrReplaceTempView(\"customers\")"
   ]
  },
  {
   "cell_type": "code",
   "execution_count": 14,
   "id": "4614d0e4",
   "metadata": {},
   "outputs": [
    {
     "data": {
      "text/html": [
       "<table border='1'>\n",
       "<tr><th>average_emp_length</th></tr>\n",
       "<tr><td>6</td></tr>\n",
       "</table>\n"
      ],
      "text/plain": [
       "+------------------+\n",
       "|average_emp_length|\n",
       "+------------------+\n",
       "|                 6|\n",
       "+------------------+"
      ]
     },
     "execution_count": 14,
     "metadata": {},
     "output_type": "execute_result"
    }
   ],
   "source": [
    "spark.sql(\"select floor(avg(emp_length)) as average_emp_length from customers\")"
   ]
  },
  {
   "cell_type": "code",
   "execution_count": 15,
   "id": "7ce8d0ff",
   "metadata": {},
   "outputs": [],
   "source": [
    "avg_emp_length = customer_emplength_casted.select(floor(avg(\"emp_length\"))).first()[0]"
   ]
  },
  {
   "cell_type": "code",
   "execution_count": 16,
   "id": "d06c3f16",
   "metadata": {},
   "outputs": [],
   "source": [
    "customer_emplength_filled = customer_emplength_casted.withColumn(\"emp_length\" , when(col(\"emp_length\").isNull() , avg_emp_length).otherwise(col(\"emp_length\"))  )"
   ]
  },
  {
   "cell_type": "code",
   "execution_count": 17,
   "id": "4ae6a446",
   "metadata": {},
   "outputs": [],
   "source": [
    "customer_clean_address = customer_emplength_filled.withColumn(\"address_state\" , when( length(col(\"address_state\")) < 3 , col(\"address_state\") ).otherwise(\"NA\"))"
   ]
  },
  {
   "cell_type": "code",
   "execution_count": 18,
   "id": "3f8272f8",
   "metadata": {},
   "outputs": [],
   "source": [
    "customer_clean_address.write.mode(\"overwrite\").option(\"path\",\"/user/itv015278/lendingclubproject/cleaned/customers_parquet\").save()"
   ]
  },
  {
   "cell_type": "code",
   "execution_count": null,
   "id": "ccef4f8c",
   "metadata": {},
   "outputs": [],
   "source": []
  }
 ],
 "metadata": {
  "kernelspec": {
   "display_name": "Pyspark 3",
   "language": "python",
   "name": "pyspark3"
  },
  "language_info": {
   "codemirror_mode": {
    "name": "ipython",
    "version": 3
   },
   "file_extension": ".py",
   "mimetype": "text/x-python",
   "name": "python",
   "nbconvert_exporter": "python",
   "pygments_lexer": "ipython3",
   "version": "3.6.12"
  }
 },
 "nbformat": 4,
 "nbformat_minor": 5
}
