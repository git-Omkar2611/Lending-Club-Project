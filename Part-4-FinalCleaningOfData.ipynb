{
 "cells": [
  {
   "cell_type": "code",
   "execution_count": 73,
   "id": "98b10d0a",
   "metadata": {},
   "outputs": [],
   "source": [
    "from pyspark.sql import SparkSession\n",
    "from pyspark.sql.types import *\n",
    "from pyspark.sql.functions import *\n",
    "import getpass\n",
    "\n",
    "username = getpass.getuser()"
   ]
  },
  {
   "cell_type": "code",
   "execution_count": 74,
   "id": "eb652ead",
   "metadata": {},
   "outputs": [],
   "source": [
    "spark = SparkSession.\\\n",
    "        builder.\\\n",
    "        config('spark.ui.port','0').\\\n",
    "        config('spark.sql.warehouse.dir',f'/user/{username}/warehouse').\\\n",
    "        config('spark.shuffle.useOldFetchProtocol','true').\\\n",
    "        enableHiveSupport().\\\n",
    "        master('yarn').\\\n",
    "        getOrCreate()\n"
   ]
  },
  {
   "cell_type": "code",
   "execution_count": 75,
   "id": "0b9a03f0",
   "metadata": {},
   "outputs": [
    {
     "data": {
      "text/html": [
       "<table border='1'>\n",
       "<tr><th></th></tr>\n",
       "</table>\n"
      ],
      "text/plain": [
       "++\n",
       "||\n",
       "++\n",
       "++"
      ]
     },
     "execution_count": 75,
     "metadata": {},
     "output_type": "execute_result"
    }
   ],
   "source": [
    "spark.sql(\"USE itv015278_lending_club\")"
   ]
  },
  {
   "cell_type": "code",
   "execution_count": 76,
   "id": "b39560aa",
   "metadata": {},
   "outputs": [
    {
     "name": "stdout",
     "output_type": "stream",
     "text": [
      "+----------------------+-------------------------------+-----------+\n",
      "|database              |tableName                      |isTemporary|\n",
      "+----------------------+-------------------------------+-----------+\n",
      "|itv015278_lending_club|customers                      |false      |\n",
      "|itv015278_lending_club|customers_loan_v               |false      |\n",
      "|itv015278_lending_club|loans                          |false      |\n",
      "|itv015278_lending_club|loans_defaulters_delinq        |false      |\n",
      "|itv015278_lending_club|loans_defaulters_detail_rec_enq|false      |\n",
      "|itv015278_lending_club|loans_repayments               |false      |\n",
      "+----------------------+-------------------------------+-----------+\n",
      "\n"
     ]
    }
   ],
   "source": [
    "spark.sql(\"SHOW TABLES\").show(9,False)"
   ]
  },
  {
   "cell_type": "code",
   "execution_count": 77,
   "id": "43b34454",
   "metadata": {},
   "outputs": [
    {
     "data": {
      "text/html": [
       "<table border='1'>\n",
       "<tr><th>member_id</th><th>loan_amount</th><th>total_principal_received</th><th>last_payment_amount</th></tr>\n",
       "<tr><td>dcec9334e70f1cc95...</td><td>12000.0</td><td>12000.0</td><td>11909.77</td></tr>\n",
       "<tr><td>fc58ca61f51f9dcac...</td><td>13000.0</td><td>7918.89</td><td>463.43</td></tr>\n",
       "<tr><td>2fb62a6ca51063b11...</td><td>6000.0</td><td>3742.07</td><td>201.42</td></tr>\n",
       "<tr><td>488268a5531951622...</td><td>12000.0</td><td>12000.0</td><td>9594.21</td></tr>\n",
       "<tr><td>ade6026208e48f5f9...</td><td>12000.0</td><td>7443.09</td><td>361.38</td></tr>\n",
       "<tr><td>7c8b0ca6acddfaeb1...</td><td>10000.0</td><td>10000.0</td><td>8729.01</td></tr>\n",
       "<tr><td>a707b7fe7c38bad65...</td><td>24000.0</td><td>24000.0</td><td>19752.63</td></tr>\n",
       "<tr><td>1df639cddea30c288...</td><td>10000.0</td><td>10000.0</td><td>4789.04</td></tr>\n",
       "<tr><td>22d67005e12d8726d...</td><td>3500.0</td><td>2198.77</td><td>115.24</td></tr>\n",
       "<tr><td>009cf312bd46551b4...</td><td>21000.0</td><td>4589.16</td><td>544.64</td></tr>\n",
       "<tr><td>2d995d383622fa80e...</td><td>25000.0</td><td>7473.98</td><td>594.62</td></tr>\n",
       "<tr><td>88b97663d2562f239...</td><td>20000.0</td><td>12256.31</td><td>622.04</td></tr>\n",
       "<tr><td>097d871ba6f21ee37...</td><td>8400.0</td><td>4979.14</td><td>291.15</td></tr>\n",
       "<tr><td>82e698108e1b8b88a...</td><td>20000.0</td><td>6167.26</td><td>486.26</td></tr>\n",
       "<tr><td>9e89f004a01479234...</td><td>5600.0</td><td>3468.61</td><td>191.37</td></tr>\n",
       "<tr><td>d4c77b361a28ff8f4...</td><td>18000.0</td><td>18000.0</td><td>9106.7</td></tr>\n",
       "<tr><td>28ea534e78570f8d1...</td><td>8975.0</td><td>8975.0</td><td>7983.68</td></tr>\n",
       "<tr><td>27a6888d24e06f6e2...</td><td>7000.0</td><td>4419.33</td><td>227.49</td></tr>\n",
       "<tr><td>c0d144ae7ab17c793...</td><td>16000.0</td><td>915.23</td><td>448.67</td></tr>\n",
       "<tr><td>56d1102515f7d6a32...</td><td>8000.0</td><td>8000.0</td><td>4287.58</td></tr>\n",
       "</table>\n",
       "only showing top 20 rows\n"
      ],
      "text/plain": [
       "+--------------------+-----------+------------------------+-------------------+\n",
       "|           member_id|loan_amount|total_principal_received|last_payment_amount|\n",
       "+--------------------+-----------+------------------------+-------------------+\n",
       "|dcec9334e70f1cc95...|    12000.0|                 12000.0|           11909.77|\n",
       "|fc58ca61f51f9dcac...|    13000.0|                 7918.89|             463.43|\n",
       "|2fb62a6ca51063b11...|     6000.0|                 3742.07|             201.42|\n",
       "|488268a5531951622...|    12000.0|                 12000.0|            9594.21|\n",
       "|ade6026208e48f5f9...|    12000.0|                 7443.09|             361.38|\n",
       "|7c8b0ca6acddfaeb1...|    10000.0|                 10000.0|            8729.01|\n",
       "|a707b7fe7c38bad65...|    24000.0|                 24000.0|           19752.63|\n",
       "|1df639cddea30c288...|    10000.0|                 10000.0|            4789.04|\n",
       "|22d67005e12d8726d...|     3500.0|                 2198.77|             115.24|\n",
       "|009cf312bd46551b4...|    21000.0|                 4589.16|             544.64|\n",
       "|2d995d383622fa80e...|    25000.0|                 7473.98|             594.62|\n",
       "|88b97663d2562f239...|    20000.0|                12256.31|             622.04|\n",
       "|097d871ba6f21ee37...|     8400.0|                 4979.14|             291.15|\n",
       "|82e698108e1b8b88a...|    20000.0|                 6167.26|             486.26|\n",
       "|9e89f004a01479234...|     5600.0|                 3468.61|             191.37|\n",
       "|d4c77b361a28ff8f4...|    18000.0|                 18000.0|             9106.7|\n",
       "|28ea534e78570f8d1...|     8975.0|                  8975.0|            7983.68|\n",
       "|27a6888d24e06f6e2...|     7000.0|                 4419.33|             227.49|\n",
       "|c0d144ae7ab17c793...|    16000.0|                  915.23|             448.67|\n",
       "|56d1102515f7d6a32...|     8000.0|                  8000.0|            4287.58|\n",
       "+--------------------+-----------+------------------------+-------------------+\n",
       "only showing top 20 rows"
      ]
     },
     "execution_count": 77,
     "metadata": {},
     "output_type": "execute_result"
    }
   ],
   "source": [
    "spark.sql(\"select member_id , loan_amount , total_principal_received , last_payment_amount from loans l inner join loans_repayments lr on l.loan_id = lr.loan_id where l.loan_amount > lr.last_payment_amount \")"
   ]
  },
  {
   "cell_type": "code",
   "execution_count": 78,
   "id": "9644223b",
   "metadata": {},
   "outputs": [],
   "source": [
    "spark.sql(\"REFRESH TABLE customers\")\n",
    "\n",
    "bad_data_customer_df = spark.sql(\"\"\"\n",
    "select member_id , count(*) as total\n",
    "from customers\n",
    "group by member_id\n",
    "having total > 1\n",
    "\"\"\")"
   ]
  },
  {
   "cell_type": "code",
   "execution_count": 79,
   "id": "4da3ff69",
   "metadata": {},
   "outputs": [],
   "source": [
    "bad_data_customer_only_df = bad_data_customer_df.select(\"member_id\")"
   ]
  },
  {
   "cell_type": "code",
   "execution_count": 80,
   "id": "328263a2",
   "metadata": {},
   "outputs": [
    {
     "data": {
      "text/html": [
       "<table border='1'>\n",
       "<tr><th>member_id</th></tr>\n",
       "<tr><td>cd1fdca829c443fa7...</td></tr>\n",
       "<tr><td>61be6498c93cadf89...</td></tr>\n",
       "<tr><td>a53e2f488d2d76a30...</td></tr>\n",
       "<tr><td>675151e58a628e87b...</td></tr>\n",
       "<tr><td>761b2f1e61999e14e...</td></tr>\n",
       "<tr><td>4231a55d0199c619a...</td></tr>\n",
       "<tr><td>d4782ddad8591f44d...</td></tr>\n",
       "<tr><td>f284044b881f218c0...</td></tr>\n",
       "<tr><td>2bae2e4dd6d5f2b21...</td></tr>\n",
       "<tr><td>01b2223757c3b62e7...</td></tr>\n",
       "<tr><td>f99c6e9cfe3a7a2d2...</td></tr>\n",
       "<tr><td>eebbd89aa7efc13e7...</td></tr>\n",
       "<tr><td>3b8ffe19f24749a73...</td></tr>\n",
       "<tr><td>a2af7506825a7dcff...</td></tr>\n",
       "<tr><td>fc0e468bff11ac7c3...</td></tr>\n",
       "<tr><td>cbede54df344cdb94...</td></tr>\n",
       "<tr><td>7115ace193e13d8f3...</td></tr>\n",
       "<tr><td>5130d0087970e032e...</td></tr>\n",
       "<tr><td>759c2dc5f485e5465...</td></tr>\n",
       "<tr><td>e884f4108b3c6b1f4...</td></tr>\n",
       "</table>\n",
       "only showing top 20 rows\n"
      ],
      "text/plain": [
       "+--------------------+\n",
       "|           member_id|\n",
       "+--------------------+\n",
       "|761b2f1e61999e14e...|\n",
       "|f284044b881f218c0...|\n",
       "|2bae2e4dd6d5f2b21...|\n",
       "|cbede54df344cdb94...|\n",
       "|7115ace193e13d8f3...|\n",
       "|cd1fdca829c443fa7...|\n",
       "|61be6498c93cadf89...|\n",
       "|a53e2f488d2d76a30...|\n",
       "|675151e58a628e87b...|\n",
       "|f99c6e9cfe3a7a2d2...|\n",
       "|eebbd89aa7efc13e7...|\n",
       "|3b8ffe19f24749a73...|\n",
       "|a2af7506825a7dcff...|\n",
       "|fc0e468bff11ac7c3...|\n",
       "|5130d0087970e032e...|\n",
       "|01b2223757c3b62e7...|\n",
       "|4231a55d0199c619a...|\n",
       "|d4782ddad8591f44d...|\n",
       "|e6404d176e3850fdb...|\n",
       "|d12c5766068d3b377...|\n",
       "+--------------------+\n",
       "only showing top 20 rows"
      ]
     },
     "execution_count": 80,
     "metadata": {},
     "output_type": "execute_result"
    }
   ],
   "source": [
    "bad_data_customer_only_df"
   ]
  },
  {
   "cell_type": "code",
   "execution_count": 81,
   "id": "4eb6cdcc",
   "metadata": {},
   "outputs": [],
   "source": [
    "spark.sql(\"REFRESH TABLE loans_defaulters_delinq\")\n",
    "bad_data_loans_defaulters_delinq_df = spark.sql(\"\"\"\n",
    "select member_id from (select member_id , count(*) as total\n",
    "from loans_defaulters_delinq\n",
    "group by member_id\n",
    "having total > 1)\n",
    "\"\"\")"
   ]
  },
  {
   "cell_type": "code",
   "execution_count": 82,
   "id": "2e448efb",
   "metadata": {},
   "outputs": [
    {
     "data": {
      "text/plain": [
       "939"
      ]
     },
     "execution_count": 82,
     "metadata": {},
     "output_type": "execute_result"
    }
   ],
   "source": [
    "bad_data_loans_defaulters_delinq_df.count()"
   ]
  },
  {
   "cell_type": "code",
   "execution_count": 83,
   "id": "8cd2375d",
   "metadata": {},
   "outputs": [],
   "source": [
    "\n",
    "bad_data_loans_defaulters_detail_rec_df = spark.sql(\"\"\"\n",
    "select member_id from (select member_id , count(*) as total\n",
    "from loans_defaulters_detail_rec_enq\n",
    "group by member_id\n",
    "having total > 1)\n",
    "\"\"\")"
   ]
  },
  {
   "cell_type": "code",
   "execution_count": 84,
   "id": "295ffb50",
   "metadata": {},
   "outputs": [
    {
     "data": {
      "text/plain": [
       "3189"
      ]
     },
     "execution_count": 84,
     "metadata": {},
     "output_type": "execute_result"
    }
   ],
   "source": [
    " bad_data_loans_defaulters_detail_rec_df.count()"
   ]
  },
  {
   "cell_type": "code",
   "execution_count": 85,
   "id": "95f87fa8",
   "metadata": {},
   "outputs": [],
   "source": [
    "bad_data_customer_only_df.repartition(1).write.format(\"csv\").mode(\"overwrite\").option(\"header\",\"True\").option(\"path\",\"/user/itv015278/lendingclubproject/bad_data/customers\").save()"
   ]
  },
  {
   "cell_type": "code",
   "execution_count": 86,
   "id": "6c23c34d",
   "metadata": {},
   "outputs": [],
   "source": [
    "bad_data_loans_defaulters_delinq_df.repartition(1).write.format(\"csv\").mode(\"overwrite\").option(\"header\",\"True\").option(\"path\",\"/user/itv015278/lendingclubproject/bad_data/loan_defaulter_delinq\").save()"
   ]
  },
  {
   "cell_type": "code",
   "execution_count": 87,
   "id": "4572673c",
   "metadata": {},
   "outputs": [],
   "source": [
    "bad_data_loans_defaulters_detail_rec_df.repartition(1).write.format(\"csv\").mode(\"overwrite\").option(\"header\",\"True\").option(\"path\",\"/user/itv015278/lendingclubproject/bad_data/loan_defaulter_detail_record\").save()"
   ]
  },
  {
   "cell_type": "code",
   "execution_count": 89,
   "id": "ea2e96e0",
   "metadata": {},
   "outputs": [],
   "source": [
    "union_data_of_all_bad_customers = bad_data_customer_only_df.union(bad_data_loans_defaulters_delinq_df).union(bad_data_loans_defaulters_detail_rec_df)"
   ]
  },
  {
   "cell_type": "code",
   "execution_count": 90,
   "id": "cce8de8f",
   "metadata": {},
   "outputs": [
    {
     "data": {
      "text/plain": [
       "7285"
      ]
     },
     "execution_count": 90,
     "metadata": {},
     "output_type": "execute_result"
    }
   ],
   "source": [
    "union_data_of_all_bad_customers.stop()"
   ]
  },
  {
   "cell_type": "code",
   "execution_count": 93,
   "id": "f3974e1c",
   "metadata": {},
   "outputs": [],
   "source": [
    "bad_customer_final_df = union_data_of_all_bad_customers.distinct()"
   ]
  },
  {
   "cell_type": "code",
   "execution_count": 94,
   "id": "10cd4017",
   "metadata": {},
   "outputs": [],
   "source": [
    "bad_customer_final_df.createOrReplaceTempView(\"bad_data_customer\")"
   ]
  },
  {
   "cell_type": "code",
   "execution_count": 111,
   "id": "54eb4cd8",
   "metadata": {},
   "outputs": [],
   "source": [
    "cleaned_customer_df = spark.sql(\"select cust.* from customers cust left join bad_data_customer bad_cust on cust.member_id = bad_cust.member_id where bad_cust.member_id is NULL \")"
   ]
  },
  {
   "cell_type": "code",
   "execution_count": 112,
   "id": "dd0af29e",
   "metadata": {},
   "outputs": [],
   "source": [
    "cleaned_customer_df.write.mode(\"overwrite\").option(\"path\",\"/user/itv015278/lendingclubproject/cleaned_new/customers_parquet\").save()"
   ]
  },
  {
   "cell_type": "code",
   "execution_count": 113,
   "id": "85e3ae56",
   "metadata": {},
   "outputs": [],
   "source": [
    "cleaned_loan_defaulter_delinq_df = spark.sql(\"select cust.* from loans_defaulters_delinq cust left join bad_data_customer bad_cust on cust.member_id = bad_cust.member_id where bad_cust.member_id is NULL \")"
   ]
  },
  {
   "cell_type": "code",
   "execution_count": 114,
   "id": "e337937e",
   "metadata": {},
   "outputs": [],
   "source": [
    "cleaned_loan_defaulter_delinq_df.write.mode(\"overwrite\").option(\"path\",\"/user/itv015278/lendingclubproject/cleaned_new/loan_defaulters_delinq_parquet\").save()"
   ]
  },
  {
   "cell_type": "code",
   "execution_count": 115,
   "id": "ff953846",
   "metadata": {},
   "outputs": [],
   "source": [
    "cleaned_loans_defaulters_detail_rec_enq = spark.sql(\"select cust.* from loans_defaulters_detail_rec_enq cust left join bad_data_customer bad_cust on cust.member_id = bad_cust.member_id where bad_cust.member_id is NULL \")"
   ]
  },
  {
   "cell_type": "code",
   "execution_count": 116,
   "id": "a068b948",
   "metadata": {},
   "outputs": [],
   "source": [
    "cleaned_loans_defaulters_detail_rec_enq.write.mode(\"overwrite\").option(\"path\",\"/user/itv015278/lendingclubproject/cleaned_new/loan_defaulters_detail_rec_enq_parquet\").save()"
   ]
  },
  {
   "cell_type": "code",
   "execution_count": 117,
   "id": "1d5dcdfc",
   "metadata": {},
   "outputs": [
    {
     "data": {
      "text/html": [
       "<table border='1'>\n",
       "<tr><th></th></tr>\n",
       "</table>\n"
      ],
      "text/plain": [
       "++\n",
       "||\n",
       "++\n",
       "++"
      ]
     },
     "execution_count": 117,
     "metadata": {},
     "output_type": "execute_result"
    }
   ],
   "source": [
    "spark.sql(\"\"\"\n",
    "CREATE EXTERNAL TABLE itv015278_lending_club.customers_new(member_id string , emp_title string , emp_length int , home_ownership string , annual_income float , address_state string ,\n",
    "address_zipcode string , address_country string , grade string , sub_grade string , verification_status string , total_high_credit_limit float , application_type string , join_annual_income float,\n",
    "verification_status_joint string , ingest_date timestamp) stored as parquet LOCATION '/user/itv015278/lendingclubproject/cleaned_new/customers_parquet'\n",
    "\"\"\")"
   ]
  },
  {
   "cell_type": "code",
   "execution_count": 119,
   "id": "376df7de",
   "metadata": {},
   "outputs": [
    {
     "data": {
      "text/html": [
       "<table border='1'>\n",
       "<tr><th></th></tr>\n",
       "</table>\n"
      ],
      "text/plain": [
       "++\n",
       "||\n",
       "++\n",
       "++"
      ]
     },
     "execution_count": 119,
     "metadata": {},
     "output_type": "execute_result"
    }
   ],
   "source": [
    "spark.sql(\"\"\"CREATE EXTERNAL TABLE itv015278_lending_club.loans_defaulters_delinq_new\n",
    "(member_id string,delinq_2yrs integer,delinq_amnt float,mths_since_last_delinq integer)\n",
    "stored as parquet \n",
    "LOCATION '/user/itv015278/lendingclubproject/cleaned_new/loan_defaulters_delinq_parquet' \"\"\")\n"
   ]
  },
  {
   "cell_type": "code",
   "execution_count": 122,
   "id": "f44d0b63",
   "metadata": {},
   "outputs": [
    {
     "data": {
      "text/html": [
       "<table border='1'>\n",
       "<tr><th></th></tr>\n",
       "</table>\n"
      ],
      "text/plain": [
       "++\n",
       "||\n",
       "++\n",
       "++"
      ]
     },
     "execution_count": 122,
     "metadata": {},
     "output_type": "execute_result"
    }
   ],
   "source": [
    "spark.sql(\"\"\"CREATE EXTERNAL TABLE itv015278_lending_club.loans_defaulters_detail_rec_enq_new\n",
    "(member_id string,public_record integer,public_record_bankruptcies integer,inquiries_last_6months integer)\n",
    "stored as parquet \n",
    "LOCATION '/user/itv015278/lendingclubproject/cleaned_new/loan_defaulters_detail_rec_enq_parquet' \"\"\")\n"
   ]
  }
 ],
 "metadata": {
  "kernelspec": {
   "display_name": "Pyspark 3",
   "language": "python",
   "name": "pyspark3"
  },
  "language_info": {
   "codemirror_mode": {
    "name": "ipython",
    "version": 3
   },
   "file_extension": ".py",
   "mimetype": "text/x-python",
   "name": "python",
   "nbconvert_exporter": "python",
   "pygments_lexer": "ipython3",
   "version": "3.6.12"
  }
 },
 "nbformat": 4,
 "nbformat_minor": 5
}
