{
 "cells": [
  {
   "cell_type": "code",
   "execution_count": 1,
   "id": "c7c9b0ca",
   "metadata": {},
   "outputs": [],
   "source": [
    "from pyspark.sql import SparkSession\n",
    "from pyspark.sql.types import *\n",
    "from pyspark.sql.functions import *\n",
    "import getpass\n",
    "\n",
    "username = getpass.getuser()"
   ]
  },
  {
   "cell_type": "code",
   "execution_count": 2,
   "id": "bb9cc92e",
   "metadata": {},
   "outputs": [],
   "source": [
    "spark = SparkSession.\\\n",
    "        builder.\\\n",
    "        config('spark.ui.port','0').\\\n",
    "        config('spark.sql.warehouse.dir',f'/user/{username}/warehouse').\\\n",
    "        config('spark.shuffle.useOldFetchProtocol','true').\\\n",
    "        enableHiveSupport().\\\n",
    "        master('yarn').\\\n",
    "        getOrCreate()\n"
   ]
  },
  {
   "cell_type": "code",
   "execution_count": 3,
   "id": "4b9a436f",
   "metadata": {},
   "outputs": [],
   "source": [
    "loans_default_schema = \"member_id string ,delinq_2yrs float ,delinq_amount float ,public_record float,public_record_bankruptcies float ,inquiries_last_6months float,total_received_late_fee float,months_since_last_delinq float,months_since_last_record float\""
   ]
  },
  {
   "cell_type": "code",
   "execution_count": 4,
   "id": "a95a2467",
   "metadata": {},
   "outputs": [],
   "source": [
    "loans_default_raw_df = spark .read.csv(\"/user/itv015278/lendingclubproject/raw/loans_defaulters_csv\",header = True , schema = loans_default_schema) "
   ]
  },
  {
   "cell_type": "code",
   "execution_count": 5,
   "id": "ba52f328",
   "metadata": {},
   "outputs": [],
   "source": [
    "loans_default_deling_updated_df = loans_default_raw_df.withColumn(\"delinq_2yrs\" , col(\"delinq_2yrs\").cast(\"int\")).fillna(0,subset=[\"delinq_2yrs\"])\n",
    "loans_default_deling_updated_df = loans_default_deling_updated_df.withColumn(\"public_record\" , col(\"public_record\").cast(\"int\")).fillna(0,subset=[\"public_record\"])\n",
    "loans_default_deling_updated_df = loans_default_deling_updated_df.withColumn(\"public_record_bankruptcies\" , col(\"public_record_bankruptcies\").cast(\"int\")).fillna(0,subset=[\"public_record_bankruptcies\"])\n",
    "loans_default_deling_updated_df = loans_default_deling_updated_df.withColumn(\"inquiries_last_6months\" , col(\"inquiries_last_6months\").cast(\"int\")).fillna(0,subset=[\"inquiries_last_6months\"])"
   ]
  },
  {
   "cell_type": "code",
   "execution_count": 6,
   "id": "9d34bbba",
   "metadata": {},
   "outputs": [],
   "source": [
    "loans_default_deling_updated_df.createOrReplaceTempView(\"loan_defaulters\")"
   ]
  },
  {
   "cell_type": "code",
   "execution_count": 7,
   "id": "17286280",
   "metadata": {},
   "outputs": [],
   "source": [
    "loans_def_delinq_df = spark.sql(\"select member_id , delinq_2yrs , delinq_amount , int(months_since_last_delinq) from loan_defaulters where delinq_2yrs > 0 or months_since_last_delinq > 0 \")"
   ]
  },
  {
   "cell_type": "code",
   "execution_count": 8,
   "id": "b332d0fd",
   "metadata": {},
   "outputs": [],
   "source": [
    "loans_def_inqueries_members_df = spark.sql(\"select member_id from loan_defaulters where public_record > 0.0 or public_record_bankruptcies > 0.0 or inquiries_last_6months > 0.0\")"
   ]
  },
  {
   "cell_type": "code",
   "execution_count": 9,
   "id": "f831d260",
   "metadata": {},
   "outputs": [],
   "source": [
    "loans_def_inqueries_detail_df = spark.sql(\"select member_id ,public_record,public_record_bankruptcies,inquiries_last_6months  from loan_defaulters \")"
   ]
  },
  {
   "cell_type": "code",
   "execution_count": 11,
   "id": "6fd41122",
   "metadata": {},
   "outputs": [
    {
     "data": {
      "text/plain": [
       "2260701"
      ]
     },
     "execution_count": 11,
     "metadata": {},
     "output_type": "execute_result"
    }
   ],
   "source": [
    "loans_def_inqueries_detail_df.count()"
   ]
  },
  {
   "cell_type": "code",
   "execution_count": 12,
   "id": "bbf8b546",
   "metadata": {},
   "outputs": [],
   "source": [
    "loans_def_delinq_df.write.mode(\"overwrite\").option(\"path\",\"/user/itv015278/lendingclubproject/cleaned/loans_defaulters_records_delinq_parquet\").save()"
   ]
  },
  {
   "cell_type": "code",
   "execution_count": 13,
   "id": "892a4528",
   "metadata": {},
   "outputs": [],
   "source": [
    "loans_def_inqueries_members_df.write.mode(\"overwrite\").option(\"path\",\"/user/itv015278/lendingclubproject/cleaned/loans_defaulters_records_inqueries_members_parquet\").save()"
   ]
  },
  {
   "cell_type": "code",
   "execution_count": 14,
   "id": "9d97618b",
   "metadata": {},
   "outputs": [],
   "source": [
    "loans_def_inqueries_detail_df.write.mode(\"overwrite\").option(\"path\",\"/user/itv015278/lendingclubproject/cleaned/loans_defaulters_records_inqueries_details_parquet\").save()"
   ]
  },
  {
   "cell_type": "code",
   "execution_count": 2,
   "id": "daf4e010",
   "metadata": {},
   "outputs": [
    {
     "name": "stdout",
     "output_type": "stream",
     "text": [
      "2025-01-02 06:03:25,038 INFO fs.TrashPolicyDefault: Moved: 'hdfs://m01.itversity.com:9000/user/itv015278/lendingclubproject/cleaned/loans_defaulters_records_inqueries_parquet' to trash at: hdfs://m01.itversity.com:9000/user/itv015278/.Trash/Current/user/itv015278/lendingclubproject/cleaned/loans_defaulters_records_inqueries_parquet\n"
     ]
    }
   ],
   "source": [
    "#! hadoop fs -rm -R /user/itv015278/lendingclubproject/cleaned/loans_defaulters_records_inqueries_parquet"
   ]
  },
  {
   "cell_type": "code",
   "execution_count": 37,
   "id": "1e7eb3b9",
   "metadata": {},
   "outputs": [
    {
     "name": "stdout",
     "output_type": "stream",
     "text": [
      "Found 3 items\n",
      "-rw-r--r--   3 itv015278 supergroup          0 2025-01-02 06:12 /user/itv015278/lendingclubproject/cleaned/loans_defaulters_records_inqueries_details_parquet/_SUCCESS\n",
      "-rw-r--r--   3 itv015278 supergroup     73.5 M 2025-01-02 06:12 /user/itv015278/lendingclubproject/cleaned/loans_defaulters_records_inqueries_details_parquet/part-00000-6713ca31-b086-412f-8248-4bffca7c45b1-c000.snappy.parquet\n",
      "-rw-r--r--   3 itv015278 supergroup     70.8 M 2025-01-02 06:12 /user/itv015278/lendingclubproject/cleaned/loans_defaulters_records_inqueries_details_parquet/part-00001-6713ca31-b086-412f-8248-4bffca7c45b1-c000.snappy.parquet\n"
     ]
    }
   ],
   "source": [
    "! hadoop fs -ls -h /user/itv015278/lendingclubproject/cleaned/loans_defaulters_records_inqueries_details_parquet"
   ]
  },
  {
   "cell_type": "code",
   "execution_count": null,
   "id": "6dbbaf78",
   "metadata": {},
   "outputs": [],
   "source": []
  },
  {
   "cell_type": "code",
   "execution_count": null,
   "id": "fbc1f2d2",
   "metadata": {},
   "outputs": [],
   "source": []
  }
 ],
 "metadata": {
  "kernelspec": {
   "display_name": "Pyspark 3",
   "language": "python",
   "name": "pyspark3"
  },
  "language_info": {
   "codemirror_mode": {
    "name": "ipython",
    "version": 3
   },
   "file_extension": ".py",
   "mimetype": "text/x-python",
   "name": "python",
   "nbconvert_exporter": "python",
   "pygments_lexer": "ipython3",
   "version": "3.6.12"
  }
 },
 "nbformat": 4,
 "nbformat_minor": 5
}
