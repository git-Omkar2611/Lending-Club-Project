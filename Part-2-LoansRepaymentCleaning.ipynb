{
 "cells": [
  {
   "cell_type": "code",
   "execution_count": 50,
   "id": "bab87c23",
   "metadata": {},
   "outputs": [],
   "source": [
    "from pyspark.sql import SparkSession\n",
    "from pyspark.sql.types import *\n",
    "from pyspark.sql.functions import *\n",
    "import getpass\n",
    "\n",
    "username = getpass.getuser()"
   ]
  },
  {
   "cell_type": "code",
   "execution_count": 51,
   "id": "7258a498",
   "metadata": {},
   "outputs": [],
   "source": [
    "spark = SparkSession.\\\n",
    "        builder.\\\n",
    "        config('spark.ui.port','0').\\\n",
    "        config('spark.sql.warehouse.dir',f'/user/{username}/warehouse').\\\n",
    "        config('spark.shuffle.useOldFetchProtocol','true').\\\n",
    "        enableHiveSupport().\\\n",
    "        master('yarn').\\\n",
    "        getOrCreate()\n"
   ]
  },
  {
   "cell_type": "code",
   "execution_count": 52,
   "id": "d9ca19ed",
   "metadata": {},
   "outputs": [],
   "source": [
    "loans_repay_schema = \"loan_id string ,total_principal_received float,total_interest_received float,total_late_fee_received float,total_payment_received float,last_payment_amount float,last_payment_date string ,next_payment_date string\""
   ]
  },
  {
   "cell_type": "code",
   "execution_count": 53,
   "id": "b35872e6",
   "metadata": {},
   "outputs": [],
   "source": [
    "loans_repay_raw_df = spark .read.csv(\"/user/itv015278/lendingclubproject/raw/loans_repayments_csv\",header = True , schema = loans_repay_schema) "
   ]
  },
  {
   "cell_type": "code",
   "execution_count": 54,
   "id": "d2aa3d28",
   "metadata": {},
   "outputs": [],
   "source": [
    "loans_repay_date_ingested = loans_repay_raw_df.withColumn(\"ingest_date\" , current_timestamp())"
   ]
  },
  {
   "cell_type": "code",
   "execution_count": 55,
   "id": "dcbbecd3",
   "metadata": {},
   "outputs": [],
   "source": [
    "columnsToBeConsidered = [\"total_principal_received\",\"total_interest_received\",\"total_late_fee_received\",\"total_payment_received\",\"last_payment_amount\"]"
   ]
  },
  {
   "cell_type": "code",
   "execution_count": 56,
   "id": "afe9dfc8",
   "metadata": {},
   "outputs": [],
   "source": [
    "filtered_loans_repay_df = loans_repay_date_ingested.na.drop(subset=columnsToBeConsidered)"
   ]
  },
  {
   "cell_type": "code",
   "execution_count": 57,
   "id": "e1ea1958",
   "metadata": {},
   "outputs": [],
   "source": [
    "loan_repay_amount_sumed_up = filtered_loans_repay_df.withColumn(\"total_payment_received\" , when( \n",
    "(col(\"total_payment_received\") == 0) & (col(\"total_principal_received\") > 0) , col('total_principal_received')+col(\"total_interest_received\")+col(\"total_late_fee_received\")\n",
    ").otherwise(col(\"total_payment_received\")))\n"
   ]
  },
  {
   "cell_type": "code",
   "execution_count": 58,
   "id": "8e0c643a",
   "metadata": {},
   "outputs": [],
   "source": [
    "cleaned_loan_repay = loan_repay_amount_sumed_up.filter(\"total_payment_received > 0.0\")"
   ]
  },
  {
   "cell_type": "code",
   "execution_count": 59,
   "id": "99bb5413",
   "metadata": {},
   "outputs": [],
   "source": [
    "cleaned_loan_repay_for_dates_df = cleaned_loan_repay.withColumn(\"last_payment_date\" , when( \n",
    "(col(\"last_payment_date\") == 0.0) , None\n",
    ").otherwise(col(\"last_payment_date\"))).withColumn(\"next_payment_date\" , when( \n",
    "(col(\"next_payment_date\") == 0.0) , None\n",
    ").otherwise(col(\"next_payment_date\")))\n"
   ]
  },
  {
   "cell_type": "code",
   "execution_count": 60,
   "id": "6cb7a29d",
   "metadata": {},
   "outputs": [],
   "source": [
    "cleaned_loan_repay_for_dates_df.write.mode(\"overwrite\").option(\"path\",\"/user/itv015278/lendingclubproject/cleaned/loans_repayments_parquet\").save()"
   ]
  }
 ],
 "metadata": {
  "kernelspec": {
   "display_name": "Pyspark 3",
   "language": "python",
   "name": "pyspark3"
  },
  "language_info": {
   "codemirror_mode": {
    "name": "ipython",
    "version": 3
   },
   "file_extension": ".py",
   "mimetype": "text/x-python",
   "name": "python",
   "nbconvert_exporter": "python",
   "pygments_lexer": "ipython3",
   "version": "3.6.12"
  }
 },
 "nbformat": 4,
 "nbformat_minor": 5
}
