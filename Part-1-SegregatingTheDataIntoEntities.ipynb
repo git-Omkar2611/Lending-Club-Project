{
 "cells": [
  {
   "cell_type": "code",
   "execution_count": 1,
   "id": "b801db58",
   "metadata": {},
   "outputs": [],
   "source": [
    "from pyspark.sql import SparkSession\n",
    "from pyspark.sql.types import *\n",
    "from pyspark.sql.functions import *\n",
    "import getpass\n",
    "\n",
    "username = getpass.getuser()"
   ]
  },
  {
   "cell_type": "code",
   "execution_count": 3,
   "id": "98dd26e8",
   "metadata": {},
   "outputs": [],
   "source": [
    "spark = SparkSession.\\\n",
    "        builder.\\\n",
    "        config('spark.ui.port','0').\\\n",
    "        config('spark.sql.warehouse.dir',f'/user/{username}/warehouse').\\\n",
    "        config('spark.shuffle.useOldFetchProtocol','true').\\\n",
    "        enableHiveSupport().\\\n",
    "        master('yarn').\\\n",
    "        getOrCreate()\n"
   ]
  },
  {
   "cell_type": "code",
   "execution_count": 4,
   "id": "fea391c0",
   "metadata": {},
   "outputs": [],
   "source": [
    "raw_df = spark.read.csv(\"/public/trendytech/datasets/accepted_2007_to_2018Q4.csv\" , header=True , inferSchema = True)"
   ]
  },
  {
   "cell_type": "code",
   "execution_count": 8,
   "id": "55c594e5",
   "metadata": {},
   "outputs": [],
   "source": [
    "transformed_df = raw_df.withColumn(\"member_id\" , sha2(concat_ws(\"||\" , *[\"emp_title\",\"emp_length\",\"home_ownership\",\"annual_inc\",\"zip_code\",\"addr_state\",\"grade\",\"sub_grade\",\"verification_status\"]) , 256))"
   ]
  },
  {
   "cell_type": "code",
   "execution_count": 14,
   "id": "3da367bb",
   "metadata": {},
   "outputs": [],
   "source": [
    "transformed_df.createOrReplaceTempView(\"lending_club_data\")"
   ]
  },
  {
   "cell_type": "code",
   "execution_count": 15,
   "id": "6472ed60",
   "metadata": {},
   "outputs": [],
   "source": [
    "spark.sql(\"\"\"\n",
    " select member_id,emp_title,emp_length,home_ownership,annual_inc,addr_state,zip_code,'USA' as country,grade,sub_grade,verification_status,tot_hi_cred_lim,application_type,annual_inc_joint,verification_status_joint\n",
    " from lending_club_data   \n",
    "\"\"\").repartition(1).write.format(\"csv\").option(\"header\",True).mode(\"overwrite\").option(\"path\" , \"/user/itv015278/lendingclubproject/raw/customers_data_csv\").save()"
   ]
  },
  {
   "cell_type": "code",
   "execution_count": 16,
   "id": "e92434b5",
   "metadata": {},
   "outputs": [],
   "source": [
    "spark.sql(\"\"\"\n",
    " select id as loan_id,member_id,loan_amnt,funded_amnt,term,int_rate,installment,issue_d,loan_status,purpose,title\n",
    " from lending_club_data   \n",
    "\"\"\").repartition(1).write.format(\"csv\").option(\"header\",True).mode(\"overwrite\").option(\"path\" , \"/user/itv015278/lendingclubproject/raw/loans_data_csv\").save()"
   ]
  },
  {
   "cell_type": "code",
   "execution_count": 17,
   "id": "72fc8b43",
   "metadata": {},
   "outputs": [],
   "source": [
    "spark.sql(\"\"\"\n",
    " select id as loan_id,total_rec_prncp,total_rec_int,total_rec_late_fee,total_pymnt,last_pymnt_amnt,last_pymnt_d,next_pymnt_d\n",
    " from lending_club_data   \n",
    "\"\"\").repartition(1).write.format(\"csv\").option(\"header\",True).mode(\"overwrite\").option(\"path\" , \"/user/itv015278/lendingclubproject/raw/loans_repayments_csv\").save()"
   ]
  },
  {
   "cell_type": "code",
   "execution_count": 19,
   "id": "af60c066",
   "metadata": {},
   "outputs": [],
   "source": [
    "spark.sql(\"\"\"\n",
    " select member_id,delinq_2yrs,delinq_amnt,pub_rec,pub_rec_bankruptcies,inq_last_6mths,total_rec_late_fee,mths_since_last_delinq,mths_since_last_record\n",
    " from lending_club_data   \n",
    "\"\"\").repartition(1).write.format(\"csv\").option(\"header\",True).mode(\"overwrite\").option(\"path\" , \"/user/itv015278/lendingclubproject/raw/loans_defaulters_csv\").save()"
   ]
  },
  {
   "cell_type": "code",
   "execution_count": null,
   "id": "e23ac2b3",
   "metadata": {},
   "outputs": [],
   "source": []
  }
 ],
 "metadata": {
  "kernelspec": {
   "display_name": "Pyspark 3",
   "language": "python",
   "name": "pyspark3"
  },
  "language_info": {
   "codemirror_mode": {
    "name": "ipython",
    "version": 3
   },
   "file_extension": ".py",
   "mimetype": "text/x-python",
   "name": "python",
   "nbconvert_exporter": "python",
   "pygments_lexer": "ipython3",
   "version": "3.6.12"
  }
 },
 "nbformat": 4,
 "nbformat_minor": 5
}
