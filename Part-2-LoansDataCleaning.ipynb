{
 "cells": [
  {
   "cell_type": "code",
   "execution_count": 46,
   "id": "a493dfc9",
   "metadata": {},
   "outputs": [],
   "source": [
    "from pyspark.sql import SparkSession\n",
    "from pyspark.sql.types import *\n",
    "from pyspark.sql.functions import *\n",
    "import getpass\n",
    "\n",
    "username = getpass.getuser()"
   ]
  },
  {
   "cell_type": "code",
   "execution_count": 47,
   "id": "32367050",
   "metadata": {},
   "outputs": [],
   "source": [
    "spark = SparkSession.\\\n",
    "        builder.\\\n",
    "        config('spark.ui.port','0').\\\n",
    "        config('spark.sql.warehouse.dir',f'/user/{username}/warehouse').\\\n",
    "        config('spark.shuffle.useOldFetchProtocol','true').\\\n",
    "        enableHiveSupport().\\\n",
    "        master('yarn').\\\n",
    "        getOrCreate()\n"
   ]
  },
  {
   "cell_type": "code",
   "execution_count": 48,
   "id": "53a52092",
   "metadata": {},
   "outputs": [],
   "source": [
    "loans_schema = \"loan_id string,member_id string ,loan_amount float,funded_amount float ,loan_term_months string ,interest_rate float ,monthly_installment float ,issue_date string ,loan_status string ,loan_purpose string ,loan_title string\""
   ]
  },
  {
   "cell_type": "code",
   "execution_count": 49,
   "id": "19646171",
   "metadata": {},
   "outputs": [],
   "source": [
    "loans_raw_df = spark .read.csv(\"/user/itv015278/lendingclubproject/raw/loans_data_csv\",header = True , schema = loans_schema) "
   ]
  },
  {
   "cell_type": "code",
   "execution_count": 50,
   "id": "138b11cb",
   "metadata": {},
   "outputs": [],
   "source": [
    "loans_ingested_date = loans_raw_df.withColumn(\"ingest_date\" , current_timestamp())"
   ]
  },
  {
   "cell_type": "code",
   "execution_count": 51,
   "id": "483d360f",
   "metadata": {},
   "outputs": [],
   "source": [
    "columns_to_check = [\"loan_amount\",\"funded_amount\",\"loan_term_months\",\"interest_rate\",\"monthly_installment\",\"issue_date\",\"loan_status\",\"loan_purpose\"]"
   ]
  },
  {
   "cell_type": "code",
   "execution_count": 52,
   "id": "e34be385",
   "metadata": {},
   "outputs": [],
   "source": [
    "loans_filterd_df = loans_ingested_date.na.drop(subset=columns_to_check)"
   ]
  },
  {
   "cell_type": "code",
   "execution_count": 53,
   "id": "8c6ac408",
   "metadata": {},
   "outputs": [],
   "source": [
    "loans_filterd_df.createOrReplaceTempView(\"loans\")"
   ]
  },
  {
   "cell_type": "code",
   "execution_count": 54,
   "id": "dd08ac31",
   "metadata": {},
   "outputs": [
    {
     "data": {
      "text/html": [
       "<table border='1'>\n",
       "<tr><th>loan_id</th><th>member_id</th><th>loan_amount</th><th>funded_amount</th><th>loan_term_months</th><th>interest_rate</th><th>monthly_installment</th><th>issue_date</th><th>loan_status</th><th>loan_purpose</th><th>loan_title</th><th>ingest_date</th></tr>\n",
       "<tr><td>76003861</td><td>a4ec00ba67fadf2fe...</td><td>24000.0</td><td>24000.0</td><td>60 months</td><td>15.31</td><td>574.88</td><td>Apr-2016</td><td>Charged Off</td><td>debt_consolidation</td><td>Debt consolidation</td><td>2025-01-01 06:32:...</td></tr>\n",
       "<tr><td>76263914</td><td>4f7a9e6ffaacd5da2...</td><td>2400.0</td><td>2400.0</td><td>36 months</td><td>11.47</td><td>79.11</td><td>Apr-2016</td><td>Fully Paid</td><td>debt_consolidation</td><td>Debt consolidation</td><td>2025-01-01 06:32:...</td></tr>\n",
       "<tr><td>75537401</td><td>e935a4c27fc78ae61...</td><td>12600.0</td><td>12600.0</td><td>36 months</td><td>7.39</td><td>391.31</td><td>Apr-2016</td><td>Fully Paid</td><td>other</td><td>Other</td><td>2025-01-01 06:32:...</td></tr>\n",
       "<tr><td>75038986</td><td>2d32004bd5e1dc3c3...</td><td>16800.0</td><td>16800.0</td><td>60 months</td><td>19.53</td><td>440.72</td><td>Apr-2016</td><td>Current</td><td>credit_card</td><td>Credit card refin...</td><td>2025-01-01 06:32:...</td></tr>\n",
       "<tr><td>76301424</td><td>f7116b7f7546a7952...</td><td>4300.0</td><td>4300.0</td><td>36 months</td><td>17.27</td><td>153.89</td><td>Apr-2016</td><td>Charged Off</td><td>debt_consolidation</td><td>Debt consolidation</td><td>2025-01-01 06:32:...</td></tr>\n",
       "<tr><td>75333198</td><td>d3aa3a3c95eca5631...</td><td>8950.0</td><td>8950.0</td><td>36 months</td><td>22.45</td><td>343.9</td><td>Apr-2016</td><td>Current</td><td>credit_card</td><td>Credit card refin...</td><td>2025-01-01 06:32:...</td></tr>\n",
       "<tr><td>76391453</td><td>fc8a2e046eaaba02d...</td><td>35000.0</td><td>35000.0</td><td>60 months</td><td>12.99</td><td>796.18</td><td>Apr-2016</td><td>Fully Paid</td><td>debt_consolidation</td><td>Debt consolidation</td><td>2025-01-01 06:32:...</td></tr>\n",
       "<tr><td>76363364</td><td>577ae670ac2ec7ed3...</td><td>15000.0</td><td>15000.0</td><td>36 months</td><td>9.16</td><td>478.12</td><td>Apr-2016</td><td>Fully Paid</td><td>house</td><td>Home buying</td><td>2025-01-01 06:32:...</td></tr>\n",
       "<tr><td>76272510</td><td>d3792868819649ba9...</td><td>30000.0</td><td>30000.0</td><td>60 months</td><td>16.29</td><td>734.18</td><td>Apr-2016</td><td>Current</td><td>debt_consolidation</td><td>Debt consolidation</td><td>2025-01-01 06:32:...</td></tr>\n",
       "<tr><td>76304116</td><td>6d3a5a422261348b3...</td><td>4800.0</td><td>4800.0</td><td>36 months</td><td>19.99</td><td>178.37</td><td>Apr-2016</td><td>Fully Paid</td><td>credit_card</td><td>Credit card refin...</td><td>2025-01-01 06:32:...</td></tr>\n",
       "<tr><td>76422971</td><td>7435a5a4b2b825a20...</td><td>10000.0</td><td>10000.0</td><td>36 months</td><td>19.53</td><td>369.25</td><td>Apr-2016</td><td>Charged Off</td><td>moving</td><td>Moving and reloca...</td><td>2025-01-01 06:32:...</td></tr>\n",
       "<tr><td>75369187</td><td>2a1dd1ae5b20c4dee...</td><td>35000.0</td><td>35000.0</td><td>60 months</td><td>11.99</td><td>778.38</td><td>Apr-2016</td><td>Current</td><td>credit_card</td><td>null</td><td>2025-01-01 06:32:...</td></tr>\n",
       "<tr><td>76212079</td><td>8d203efd7c1af010c...</td><td>6400.0</td><td>6400.0</td><td>36 months</td><td>9.16</td><td>204.0</td><td>Apr-2016</td><td>Current</td><td>credit_card</td><td>Credit card refin...</td><td>2025-01-01 06:32:...</td></tr>\n",
       "<tr><td>75104089</td><td>c266c3c131861bb8c...</td><td>8500.0</td><td>8500.0</td><td>36 months</td><td>9.75</td><td>273.28</td><td>Apr-2016</td><td>Fully Paid</td><td>debt_consolidation</td><td>Debt consolidation</td><td>2025-01-01 06:32:...</td></tr>\n",
       "<tr><td>75669444</td><td>c7b46f35c566b6d56...</td><td>30800.0</td><td>30800.0</td><td>60 months</td><td>19.53</td><td>807.98</td><td>Apr-2016</td><td>Current</td><td>debt_consolidation</td><td>Debt consolidation</td><td>2025-01-01 06:32:...</td></tr>\n",
       "<tr><td>76223382</td><td>9284503d1d6dcd23b...</td><td>2000.0</td><td>2000.0</td><td>36 months</td><td>9.16</td><td>63.75</td><td>Apr-2016</td><td>Current</td><td>debt_consolidation</td><td>Debt consolidation</td><td>2025-01-01 06:32:...</td></tr>\n",
       "<tr><td>76223540</td><td>616e44da25c28bd55...</td><td>25000.0</td><td>25000.0</td><td>36 months</td><td>17.27</td><td>894.69</td><td>Apr-2016</td><td>Fully Paid</td><td>debt_consolidation</td><td>Debt consolidation</td><td>2025-01-01 06:32:...</td></tr>\n",
       "<tr><td>76255093</td><td>8192d3261d35b28af...</td><td>7000.0</td><td>7000.0</td><td>36 months</td><td>16.29</td><td>247.11</td><td>Apr-2016</td><td>Fully Paid</td><td>credit_card</td><td>Credit card refin...</td><td>2025-01-01 06:32:...</td></tr>\n",
       "<tr><td>76402196</td><td>c764f6b4666a3a439...</td><td>8000.0</td><td>8000.0</td><td>36 months</td><td>13.67</td><td>272.15</td><td>Apr-2016</td><td>Current</td><td>debt_consolidation</td><td>Debt consolidation</td><td>2025-01-01 06:32:...</td></tr>\n",
       "<tr><td>76223437</td><td>199119e026b4bfb14...</td><td>24000.0</td><td>24000.0</td><td>36 months</td><td>9.16</td><td>764.99</td><td>Apr-2016</td><td>Fully Paid</td><td>other</td><td>Other</td><td>2025-01-01 06:32:...</td></tr>\n",
       "</table>\n",
       "only showing top 20 rows\n"
      ],
      "text/plain": [
       "+--------+--------------------+-----------+-------------+----------------+-------------+-------------------+----------+-----------+------------------+--------------------+--------------------+\n",
       "| loan_id|           member_id|loan_amount|funded_amount|loan_term_months|interest_rate|monthly_installment|issue_date|loan_status|      loan_purpose|          loan_title|         ingest_date|\n",
       "+--------+--------------------+-----------+-------------+----------------+-------------+-------------------+----------+-----------+------------------+--------------------+--------------------+\n",
       "|76003861|a4ec00ba67fadf2fe...|    24000.0|      24000.0|       60 months|        15.31|             574.88|  Apr-2016|Charged Off|debt_consolidation|  Debt consolidation|2025-01-01 06:32:...|\n",
       "|76263914|4f7a9e6ffaacd5da2...|     2400.0|       2400.0|       36 months|        11.47|              79.11|  Apr-2016| Fully Paid|debt_consolidation|  Debt consolidation|2025-01-01 06:32:...|\n",
       "|75537401|e935a4c27fc78ae61...|    12600.0|      12600.0|       36 months|         7.39|             391.31|  Apr-2016| Fully Paid|             other|               Other|2025-01-01 06:32:...|\n",
       "|75038986|2d32004bd5e1dc3c3...|    16800.0|      16800.0|       60 months|        19.53|             440.72|  Apr-2016|    Current|       credit_card|Credit card refin...|2025-01-01 06:32:...|\n",
       "|76301424|f7116b7f7546a7952...|     4300.0|       4300.0|       36 months|        17.27|             153.89|  Apr-2016|Charged Off|debt_consolidation|  Debt consolidation|2025-01-01 06:32:...|\n",
       "|75333198|d3aa3a3c95eca5631...|     8950.0|       8950.0|       36 months|        22.45|              343.9|  Apr-2016|    Current|       credit_card|Credit card refin...|2025-01-01 06:32:...|\n",
       "|76391453|fc8a2e046eaaba02d...|    35000.0|      35000.0|       60 months|        12.99|             796.18|  Apr-2016| Fully Paid|debt_consolidation|  Debt consolidation|2025-01-01 06:32:...|\n",
       "|76363364|577ae670ac2ec7ed3...|    15000.0|      15000.0|       36 months|         9.16|             478.12|  Apr-2016| Fully Paid|             house|         Home buying|2025-01-01 06:32:...|\n",
       "|76272510|d3792868819649ba9...|    30000.0|      30000.0|       60 months|        16.29|             734.18|  Apr-2016|    Current|debt_consolidation|  Debt consolidation|2025-01-01 06:32:...|\n",
       "|76304116|6d3a5a422261348b3...|     4800.0|       4800.0|       36 months|        19.99|             178.37|  Apr-2016| Fully Paid|       credit_card|Credit card refin...|2025-01-01 06:32:...|\n",
       "|76422971|7435a5a4b2b825a20...|    10000.0|      10000.0|       36 months|        19.53|             369.25|  Apr-2016|Charged Off|            moving|Moving and reloca...|2025-01-01 06:32:...|\n",
       "|75369187|2a1dd1ae5b20c4dee...|    35000.0|      35000.0|       60 months|        11.99|             778.38|  Apr-2016|    Current|       credit_card|                null|2025-01-01 06:32:...|\n",
       "|76212079|8d203efd7c1af010c...|     6400.0|       6400.0|       36 months|         9.16|              204.0|  Apr-2016|    Current|       credit_card|Credit card refin...|2025-01-01 06:32:...|\n",
       "|75104089|c266c3c131861bb8c...|     8500.0|       8500.0|       36 months|         9.75|             273.28|  Apr-2016| Fully Paid|debt_consolidation|  Debt consolidation|2025-01-01 06:32:...|\n",
       "|75669444|c7b46f35c566b6d56...|    30800.0|      30800.0|       60 months|        19.53|             807.98|  Apr-2016|    Current|debt_consolidation|  Debt consolidation|2025-01-01 06:32:...|\n",
       "|76223382|9284503d1d6dcd23b...|     2000.0|       2000.0|       36 months|         9.16|              63.75|  Apr-2016|    Current|debt_consolidation|  Debt consolidation|2025-01-01 06:32:...|\n",
       "|76223540|616e44da25c28bd55...|    25000.0|      25000.0|       36 months|        17.27|             894.69|  Apr-2016| Fully Paid|debt_consolidation|  Debt consolidation|2025-01-01 06:32:...|\n",
       "|76255093|8192d3261d35b28af...|     7000.0|       7000.0|       36 months|        16.29|             247.11|  Apr-2016| Fully Paid|       credit_card|Credit card refin...|2025-01-01 06:32:...|\n",
       "|76402196|c764f6b4666a3a439...|     8000.0|       8000.0|       36 months|        13.67|             272.15|  Apr-2016|    Current|debt_consolidation|  Debt consolidation|2025-01-01 06:32:...|\n",
       "|76223437|199119e026b4bfb14...|    24000.0|      24000.0|       36 months|         9.16|             764.99|  Apr-2016| Fully Paid|             other|               Other|2025-01-01 06:32:...|\n",
       "+--------+--------------------+-----------+-------------+----------------+-------------+-------------------+----------+-----------+------------------+--------------------+--------------------+\n",
       "only showing top 20 rows"
      ]
     },
     "execution_count": 54,
     "metadata": {},
     "output_type": "execute_result"
    }
   ],
   "source": [
    "spark.sql(\"select * from loans\")"
   ]
  },
  {
   "cell_type": "code",
   "execution_count": 55,
   "id": "f6b71f6d",
   "metadata": {},
   "outputs": [],
   "source": [
    "loans_months_transformed = loans_filterd_df. \\\n",
    "withColumn(\"loan_term_months\" , (regexp_replace(col(\"loan_term_months\") , \"(\\D)\",\"\") \\\n",
    "                                 .cast(\"int\")/12).cast(\"int\")) \\\n",
    ".withColumnRenamed(\"loan_term_months\",\"loan_term_years\")"
   ]
  },
  {
   "cell_type": "code",
   "execution_count": 56,
   "id": "697d3af1",
   "metadata": {},
   "outputs": [
    {
     "data": {
      "text/html": [
       "<table border='1'>\n",
       "<tr><th>loan_id</th><th>member_id</th><th>loan_amount</th><th>funded_amount</th><th>loan_term_years</th><th>interest_rate</th><th>monthly_installment</th><th>issue_date</th><th>loan_status</th><th>loan_purpose</th><th>loan_title</th><th>ingest_date</th></tr>\n",
       "<tr><td>76003861</td><td>a4ec00ba67fadf2fe...</td><td>24000.0</td><td>24000.0</td><td>5</td><td>15.31</td><td>574.88</td><td>Apr-2016</td><td>Charged Off</td><td>debt_consolidation</td><td>Debt consolidation</td><td>2025-01-01 06:32:...</td></tr>\n",
       "<tr><td>76263914</td><td>4f7a9e6ffaacd5da2...</td><td>2400.0</td><td>2400.0</td><td>3</td><td>11.47</td><td>79.11</td><td>Apr-2016</td><td>Fully Paid</td><td>debt_consolidation</td><td>Debt consolidation</td><td>2025-01-01 06:32:...</td></tr>\n",
       "<tr><td>75537401</td><td>e935a4c27fc78ae61...</td><td>12600.0</td><td>12600.0</td><td>3</td><td>7.39</td><td>391.31</td><td>Apr-2016</td><td>Fully Paid</td><td>other</td><td>Other</td><td>2025-01-01 06:32:...</td></tr>\n",
       "<tr><td>75038986</td><td>2d32004bd5e1dc3c3...</td><td>16800.0</td><td>16800.0</td><td>5</td><td>19.53</td><td>440.72</td><td>Apr-2016</td><td>Current</td><td>credit_card</td><td>Credit card refin...</td><td>2025-01-01 06:32:...</td></tr>\n",
       "<tr><td>76301424</td><td>f7116b7f7546a7952...</td><td>4300.0</td><td>4300.0</td><td>3</td><td>17.27</td><td>153.89</td><td>Apr-2016</td><td>Charged Off</td><td>debt_consolidation</td><td>Debt consolidation</td><td>2025-01-01 06:32:...</td></tr>\n",
       "<tr><td>75333198</td><td>d3aa3a3c95eca5631...</td><td>8950.0</td><td>8950.0</td><td>3</td><td>22.45</td><td>343.9</td><td>Apr-2016</td><td>Current</td><td>credit_card</td><td>Credit card refin...</td><td>2025-01-01 06:32:...</td></tr>\n",
       "<tr><td>76391453</td><td>fc8a2e046eaaba02d...</td><td>35000.0</td><td>35000.0</td><td>5</td><td>12.99</td><td>796.18</td><td>Apr-2016</td><td>Fully Paid</td><td>debt_consolidation</td><td>Debt consolidation</td><td>2025-01-01 06:32:...</td></tr>\n",
       "<tr><td>76363364</td><td>577ae670ac2ec7ed3...</td><td>15000.0</td><td>15000.0</td><td>3</td><td>9.16</td><td>478.12</td><td>Apr-2016</td><td>Fully Paid</td><td>house</td><td>Home buying</td><td>2025-01-01 06:32:...</td></tr>\n",
       "<tr><td>76272510</td><td>d3792868819649ba9...</td><td>30000.0</td><td>30000.0</td><td>5</td><td>16.29</td><td>734.18</td><td>Apr-2016</td><td>Current</td><td>debt_consolidation</td><td>Debt consolidation</td><td>2025-01-01 06:32:...</td></tr>\n",
       "<tr><td>76304116</td><td>6d3a5a422261348b3...</td><td>4800.0</td><td>4800.0</td><td>3</td><td>19.99</td><td>178.37</td><td>Apr-2016</td><td>Fully Paid</td><td>credit_card</td><td>Credit card refin...</td><td>2025-01-01 06:32:...</td></tr>\n",
       "<tr><td>76422971</td><td>7435a5a4b2b825a20...</td><td>10000.0</td><td>10000.0</td><td>3</td><td>19.53</td><td>369.25</td><td>Apr-2016</td><td>Charged Off</td><td>moving</td><td>Moving and reloca...</td><td>2025-01-01 06:32:...</td></tr>\n",
       "<tr><td>75369187</td><td>2a1dd1ae5b20c4dee...</td><td>35000.0</td><td>35000.0</td><td>5</td><td>11.99</td><td>778.38</td><td>Apr-2016</td><td>Current</td><td>credit_card</td><td>null</td><td>2025-01-01 06:32:...</td></tr>\n",
       "<tr><td>76212079</td><td>8d203efd7c1af010c...</td><td>6400.0</td><td>6400.0</td><td>3</td><td>9.16</td><td>204.0</td><td>Apr-2016</td><td>Current</td><td>credit_card</td><td>Credit card refin...</td><td>2025-01-01 06:32:...</td></tr>\n",
       "<tr><td>75104089</td><td>c266c3c131861bb8c...</td><td>8500.0</td><td>8500.0</td><td>3</td><td>9.75</td><td>273.28</td><td>Apr-2016</td><td>Fully Paid</td><td>debt_consolidation</td><td>Debt consolidation</td><td>2025-01-01 06:32:...</td></tr>\n",
       "<tr><td>75669444</td><td>c7b46f35c566b6d56...</td><td>30800.0</td><td>30800.0</td><td>5</td><td>19.53</td><td>807.98</td><td>Apr-2016</td><td>Current</td><td>debt_consolidation</td><td>Debt consolidation</td><td>2025-01-01 06:32:...</td></tr>\n",
       "<tr><td>76223382</td><td>9284503d1d6dcd23b...</td><td>2000.0</td><td>2000.0</td><td>3</td><td>9.16</td><td>63.75</td><td>Apr-2016</td><td>Current</td><td>debt_consolidation</td><td>Debt consolidation</td><td>2025-01-01 06:32:...</td></tr>\n",
       "<tr><td>76223540</td><td>616e44da25c28bd55...</td><td>25000.0</td><td>25000.0</td><td>3</td><td>17.27</td><td>894.69</td><td>Apr-2016</td><td>Fully Paid</td><td>debt_consolidation</td><td>Debt consolidation</td><td>2025-01-01 06:32:...</td></tr>\n",
       "<tr><td>76255093</td><td>8192d3261d35b28af...</td><td>7000.0</td><td>7000.0</td><td>3</td><td>16.29</td><td>247.11</td><td>Apr-2016</td><td>Fully Paid</td><td>credit_card</td><td>Credit card refin...</td><td>2025-01-01 06:32:...</td></tr>\n",
       "<tr><td>76402196</td><td>c764f6b4666a3a439...</td><td>8000.0</td><td>8000.0</td><td>3</td><td>13.67</td><td>272.15</td><td>Apr-2016</td><td>Current</td><td>debt_consolidation</td><td>Debt consolidation</td><td>2025-01-01 06:32:...</td></tr>\n",
       "<tr><td>76223437</td><td>199119e026b4bfb14...</td><td>24000.0</td><td>24000.0</td><td>3</td><td>9.16</td><td>764.99</td><td>Apr-2016</td><td>Fully Paid</td><td>other</td><td>Other</td><td>2025-01-01 06:32:...</td></tr>\n",
       "</table>\n",
       "only showing top 20 rows\n"
      ],
      "text/plain": [
       "+--------+--------------------+-----------+-------------+---------------+-------------+-------------------+----------+-----------+------------------+--------------------+--------------------+\n",
       "| loan_id|           member_id|loan_amount|funded_amount|loan_term_years|interest_rate|monthly_installment|issue_date|loan_status|      loan_purpose|          loan_title|         ingest_date|\n",
       "+--------+--------------------+-----------+-------------+---------------+-------------+-------------------+----------+-----------+------------------+--------------------+--------------------+\n",
       "|76003861|a4ec00ba67fadf2fe...|    24000.0|      24000.0|              5|        15.31|             574.88|  Apr-2016|Charged Off|debt_consolidation|  Debt consolidation|2025-01-01 06:32:...|\n",
       "|76263914|4f7a9e6ffaacd5da2...|     2400.0|       2400.0|              3|        11.47|              79.11|  Apr-2016| Fully Paid|debt_consolidation|  Debt consolidation|2025-01-01 06:32:...|\n",
       "|75537401|e935a4c27fc78ae61...|    12600.0|      12600.0|              3|         7.39|             391.31|  Apr-2016| Fully Paid|             other|               Other|2025-01-01 06:32:...|\n",
       "|75038986|2d32004bd5e1dc3c3...|    16800.0|      16800.0|              5|        19.53|             440.72|  Apr-2016|    Current|       credit_card|Credit card refin...|2025-01-01 06:32:...|\n",
       "|76301424|f7116b7f7546a7952...|     4300.0|       4300.0|              3|        17.27|             153.89|  Apr-2016|Charged Off|debt_consolidation|  Debt consolidation|2025-01-01 06:32:...|\n",
       "|75333198|d3aa3a3c95eca5631...|     8950.0|       8950.0|              3|        22.45|              343.9|  Apr-2016|    Current|       credit_card|Credit card refin...|2025-01-01 06:32:...|\n",
       "|76391453|fc8a2e046eaaba02d...|    35000.0|      35000.0|              5|        12.99|             796.18|  Apr-2016| Fully Paid|debt_consolidation|  Debt consolidation|2025-01-01 06:32:...|\n",
       "|76363364|577ae670ac2ec7ed3...|    15000.0|      15000.0|              3|         9.16|             478.12|  Apr-2016| Fully Paid|             house|         Home buying|2025-01-01 06:32:...|\n",
       "|76272510|d3792868819649ba9...|    30000.0|      30000.0|              5|        16.29|             734.18|  Apr-2016|    Current|debt_consolidation|  Debt consolidation|2025-01-01 06:32:...|\n",
       "|76304116|6d3a5a422261348b3...|     4800.0|       4800.0|              3|        19.99|             178.37|  Apr-2016| Fully Paid|       credit_card|Credit card refin...|2025-01-01 06:32:...|\n",
       "|76422971|7435a5a4b2b825a20...|    10000.0|      10000.0|              3|        19.53|             369.25|  Apr-2016|Charged Off|            moving|Moving and reloca...|2025-01-01 06:32:...|\n",
       "|75369187|2a1dd1ae5b20c4dee...|    35000.0|      35000.0|              5|        11.99|             778.38|  Apr-2016|    Current|       credit_card|                null|2025-01-01 06:32:...|\n",
       "|76212079|8d203efd7c1af010c...|     6400.0|       6400.0|              3|         9.16|              204.0|  Apr-2016|    Current|       credit_card|Credit card refin...|2025-01-01 06:32:...|\n",
       "|75104089|c266c3c131861bb8c...|     8500.0|       8500.0|              3|         9.75|             273.28|  Apr-2016| Fully Paid|debt_consolidation|  Debt consolidation|2025-01-01 06:32:...|\n",
       "|75669444|c7b46f35c566b6d56...|    30800.0|      30800.0|              5|        19.53|             807.98|  Apr-2016|    Current|debt_consolidation|  Debt consolidation|2025-01-01 06:32:...|\n",
       "|76223382|9284503d1d6dcd23b...|     2000.0|       2000.0|              3|         9.16|              63.75|  Apr-2016|    Current|debt_consolidation|  Debt consolidation|2025-01-01 06:32:...|\n",
       "|76223540|616e44da25c28bd55...|    25000.0|      25000.0|              3|        17.27|             894.69|  Apr-2016| Fully Paid|debt_consolidation|  Debt consolidation|2025-01-01 06:32:...|\n",
       "|76255093|8192d3261d35b28af...|     7000.0|       7000.0|              3|        16.29|             247.11|  Apr-2016| Fully Paid|       credit_card|Credit card refin...|2025-01-01 06:32:...|\n",
       "|76402196|c764f6b4666a3a439...|     8000.0|       8000.0|              3|        13.67|             272.15|  Apr-2016|    Current|debt_consolidation|  Debt consolidation|2025-01-01 06:32:...|\n",
       "|76223437|199119e026b4bfb14...|    24000.0|      24000.0|              3|         9.16|             764.99|  Apr-2016| Fully Paid|             other|               Other|2025-01-01 06:32:...|\n",
       "+--------+--------------------+-----------+-------------+---------------+-------------+-------------------+----------+-----------+------------------+--------------------+--------------------+\n",
       "only showing top 20 rows"
      ]
     },
     "execution_count": 56,
     "metadata": {},
     "output_type": "execute_result"
    }
   ],
   "source": [
    "loans_months_transformed"
   ]
  },
  {
   "cell_type": "code",
   "execution_count": 57,
   "id": "498be21d",
   "metadata": {},
   "outputs": [],
   "source": [
    "loan_purpose_to_be_considered = [\"debt_consolidation\",\"credit_card\",\"home_improvement\",\"other\",\"major_purchase\",\"medical\",\"small_business\",\"car\",\"vacation\",\"moving\",\"house\",\"wedding\",\"renewable_energy\",\"educational\"]"
   ]
  },
  {
   "cell_type": "code",
   "execution_count": 59,
   "id": "a259d41c",
   "metadata": {},
   "outputs": [],
   "source": [
    "loans_loan_status_transformed = loans_months_transformed.withColumn(\"loan_purpose\", when( col(\"loan_purpose\").isin(loan_purpose_to_be_considered) , col(\"loan_purpose\") ).otherwise(\"other\"))"
   ]
  },
  {
   "cell_type": "code",
   "execution_count": null,
   "id": "6204dfcc",
   "metadata": {},
   "outputs": [],
   "source": [
    "#loans_loan_status_transformed.groupBy(\"loan_purpose\").agg( count(\"loan_purpose\").alias(\"Total_count\") , avg(\"loan_amount\").alias(\"AverageLoanAmount\") ).orderBy(col(\"AverageLoanAmount\"))"
   ]
  },
  {
   "cell_type": "code",
   "execution_count": 66,
   "id": "584c705b",
   "metadata": {},
   "outputs": [],
   "source": [
    "loans_loan_status_transformed.write.mode(\"overwrite\").option(\"path\",\"/user/itv015278/lendingclubproject/cleaned/loans_parquet\").save()"
   ]
  },
  {
   "cell_type": "code",
   "execution_count": 67,
   "id": "f96b8f1f",
   "metadata": {},
   "outputs": [
    {
     "data": {
      "text/plain": [
       "3"
      ]
     },
     "execution_count": 67,
     "metadata": {},
     "output_type": "execute_result"
    }
   ],
   "source": [
    " loans_loan_status_transformed.rdd.getNumPartitions()"
   ]
  },
  {
   "cell_type": "code",
   "execution_count": null,
   "id": "2e6383cf",
   "metadata": {},
   "outputs": [],
   "source": []
  }
 ],
 "metadata": {
  "kernelspec": {
   "display_name": "Pyspark 3",
   "language": "python",
   "name": "pyspark3"
  },
  "language_info": {
   "codemirror_mode": {
    "name": "ipython",
    "version": 3
   },
   "file_extension": ".py",
   "mimetype": "text/x-python",
   "name": "python",
   "nbconvert_exporter": "python",
   "pygments_lexer": "ipython3",
   "version": "3.6.12"
  }
 },
 "nbformat": 4,
 "nbformat_minor": 5
}
