{
 "cells": [
  {
   "cell_type": "code",
   "execution_count": 42,
   "id": "6d49d991",
   "metadata": {},
   "outputs": [],
   "source": [
    "from pyspark.sql import SparkSession\n",
    "from pyspark.sql.types import *\n",
    "from pyspark.sql.functions import *\n",
    "import getpass\n",
    "\n",
    "username = getpass.getuser()"
   ]
  },
  {
   "cell_type": "code",
   "execution_count": 43,
   "id": "1177d3d1",
   "metadata": {},
   "outputs": [],
   "source": [
    "spark = SparkSession.\\\n",
    "        builder.\\\n",
    "        config('spark.ui.port','0').\\\n",
    "        config('spark.sql.warehouse.dir',f'/user/{username}/warehouse').\\\n",
    "        config('spark.shuffle.useOldFetchProtocol','true').\\\n",
    "        enableHiveSupport().\\\n",
    "        master('yarn').\\\n",
    "        getOrCreate()\n"
   ]
  },
  {
   "cell_type": "code",
   "execution_count": 21,
   "id": "6c3117fc",
   "metadata": {},
   "outputs": [],
   "source": [
    "customers_df = spark.read.parquet(\"/user/itv015278/lendingclubproject/cleaned/customers_parquet\") "
   ]
  },
  {
   "cell_type": "code",
   "execution_count": 9,
   "id": "ddaa97cc",
   "metadata": {},
   "outputs": [
    {
     "data": {
      "text/html": [
       "<table border='1'>\n",
       "<tr><th></th></tr>\n",
       "</table>\n"
      ],
      "text/plain": [
       "++\n",
       "||\n",
       "++\n",
       "++"
      ]
     },
     "execution_count": 9,
     "metadata": {},
     "output_type": "execute_result"
    }
   ],
   "source": [
    "spark.sql(\"CREATE DATABaSE itv015278_lending_club\")"
   ]
  },
  {
   "cell_type": "code",
   "execution_count": 24,
   "id": "724edacf",
   "metadata": {},
   "outputs": [
    {
     "data": {
      "text/html": [
       "<table border='1'>\n",
       "<tr><th></th></tr>\n",
       "</table>\n"
      ],
      "text/plain": [
       "++\n",
       "||\n",
       "++\n",
       "++"
      ]
     },
     "execution_count": 24,
     "metadata": {},
     "output_type": "execute_result"
    }
   ],
   "source": [
    "spark.sql(\"\"\"\n",
    "CREATE EXTERNAL TABLE itv015278_lending_club.customers(member_id string , emp_title string , emp_length int , home_ownership string , annual_income float , address_state string ,\n",
    "address_zipcode string , address_country string , grade string , sub_grade string , verification_status string , total_high_credit_limit float , application_type string , join_annual_income float,\n",
    "verification_status_joint string , ingest_date timestamp) stored as parquet LOCATION '/user/itv015278/lendingclubproject/cleaned/customers_parquet'\n",
    "\"\"\")"
   ]
  },
  {
   "cell_type": "code",
   "execution_count": 36,
   "id": "b1f194ad",
   "metadata": {},
   "outputs": [
    {
     "data": {
      "text/html": [
       "<table border='1'>\n",
       "<tr><th></th></tr>\n",
       "</table>\n"
      ],
      "text/plain": [
       "++\n",
       "||\n",
       "++\n",
       "++"
      ]
     },
     "execution_count": 36,
     "metadata": {},
     "output_type": "execute_result"
    }
   ],
   "source": [
    "spark.sql(\"\"\"CREATE EXTERNAL TABLE itv015278_lending_club.loans(loan_id string,member_id string,loan_amount float,funded_amount float,loan_term_years integer,interest_rate float,monthly_installment\n",
    " float,issue_date string,loan_status string,loan_purpose string,loan_title string,ingest_date timestamp)stored as parquet LOCATION '/user/itv015278/lendingclubproject/cleaned/loans_parquet' \"\"\")"
   ]
  },
  {
   "cell_type": "code",
   "execution_count": 52,
   "id": "cc95a754",
   "metadata": {},
   "outputs": [
    {
     "data": {
      "text/html": [
       "<table border='1'>\n",
       "<tr><th></th></tr>\n",
       "</table>\n"
      ],
      "text/plain": [
       "++\n",
       "||\n",
       "++\n",
       "++"
      ]
     },
     "execution_count": 52,
     "metadata": {},
     "output_type": "execute_result"
    }
   ],
   "source": [
    "spark.sql(\"\"\"CREATE EXTERNAL TABLE itv015278_lending_club.loans_repayments\n",
    "(loan_id string, total_principal_received float,total_interest_received float,total_late_fee_received float,\n",
    "total_payment_received float,last_payment_amount float,last_payment_date string,\n",
    "next_payment_date string,ingest_date timestamp)\n",
    "stored as parquet LOCATION '/user/itv015278/lendingclubproject/cleaned/loans_repayments_parquet' \"\"\")"
   ]
  },
  {
   "cell_type": "code",
   "execution_count": 48,
   "id": "79f9a1eb",
   "metadata": {},
   "outputs": [
    {
     "data": {
      "text/html": [
       "<table border='1'>\n",
       "<tr><th></th></tr>\n",
       "</table>\n"
      ],
      "text/plain": [
       "++\n",
       "||\n",
       "++\n",
       "++"
      ]
     },
     "execution_count": 48,
     "metadata": {},
     "output_type": "execute_result"
    }
   ],
   "source": [
    "spark.sql(\"\"\"CREATE EXTERNAL TABLE itv015278_lending_club.loans_defaulters_delinq\n",
    "(member_id string,delinq_2yrs integer,delinq_amnt float,mths_since_last_delinq integer)\n",
    "stored as parquet \n",
    "LOCATION '/user/itv015278/lendingclubproject/cleaned/loans_defaulters_records_delinq_parquet' \"\"\")\n"
   ]
  },
  {
   "cell_type": "code",
   "execution_count": 49,
   "id": "74c9fd25",
   "metadata": {},
   "outputs": [
    {
     "data": {
      "text/html": [
       "<table border='1'>\n",
       "<tr><th></th></tr>\n",
       "</table>\n"
      ],
      "text/plain": [
       "++\n",
       "||\n",
       "++\n",
       "++"
      ]
     },
     "execution_count": 49,
     "metadata": {},
     "output_type": "execute_result"
    }
   ],
   "source": [
    "spark.sql(\"\"\"CREATE EXTERNAL TABLE itv015278_lending_club.loans_defaulters_detail_rec_enq\n",
    "(member_id string,public_record integer,public_record_bankruptcies integer,inquiries_last_6months integer)\n",
    "stored as parquet \n",
    "LOCATION '/user/itv015278/lendingclubproject/cleaned/loans_defaulters_records_inqueries_details_parquet' \"\"\")\n"
   ]
  },
  {
   "cell_type": "code",
   "execution_count": 53,
   "id": "d5bc3e12",
   "metadata": {},
   "outputs": [
    {
     "data": {
      "text/html": [
       "<table border='1'>\n",
       "<tr><th>loan_id</th><th>total_principal_received</th><th>total_interest_received</th><th>total_late_fee_received</th><th>total_payment_received</th><th>last_payment_amount</th><th>last_payment_date</th><th>next_payment_date</th><th>ingest_date</th></tr>\n",
       "<tr><td>118184277</td><td>4500.0</td><td>309.83</td><td>0.0</td><td>4809.827</td><td>3136.06</td><td>Oct-2018</td><td>null</td><td>2025-01-01 07:32:...</td></tr>\n",
       "<tr><td>117289602</td><td>1851.99</td><td>466.72</td><td>0.0</td><td>2318.71</td><td>128.94</td><td>Mar-2019</td><td>Apr-2019</td><td>2025-01-01 07:32:...</td></tr>\n",
       "<tr><td>118216186</td><td>4593.79</td><td>1285.61</td><td>0.0</td><td>5879.4</td><td>326.97</td><td>Mar-2019</td><td>Apr-2019</td><td>2025-01-01 07:32:...</td></tr>\n",
       "<tr><td>117584790</td><td>20000.0</td><td>1638.12</td><td>0.0</td><td>21638.121</td><td>16960.53</td><td>May-2018</td><td>null</td><td>2025-01-01 07:32:...</td></tr>\n",
       "<tr><td>118208834</td><td>7053.74</td><td>1396.74</td><td>0.0</td><td>8450.48</td><td>469.84</td><td>Mar-2019</td><td>Apr-2019</td><td>2025-01-01 07:32:...</td></tr>\n",
       "<tr><td>117566588</td><td>4888.37</td><td>3811.19</td><td>0.0</td><td>8699.56</td><td>484.19</td><td>Mar-2019</td><td>Apr-2019</td><td>2025-01-01 07:32:...</td></tr>\n",
       "<tr><td>118221134</td><td>2261.1</td><td>2017.6</td><td>0.0</td><td>4278.7</td><td>238.17</td><td>Mar-2019</td><td>Apr-2019</td><td>2025-01-01 07:32:...</td></tr>\n",
       "<tr><td>118183021</td><td>2688.72</td><td>345.32</td><td>0.0</td><td>3034.04</td><td>168.65</td><td>Mar-2019</td><td>Apr-2019</td><td>2025-01-01 07:32:...</td></tr>\n",
       "<tr><td>118209005</td><td>7567.78</td><td>1346.25</td><td>0.0</td><td>8914.03</td><td>495.58</td><td>Mar-2019</td><td>Apr-2019</td><td>2025-01-01 07:32:...</td></tr>\n",
       "<tr><td>118214952</td><td>3291.77</td><td>651.81</td><td>0.0</td><td>3943.58</td><td>219.26</td><td>Mar-2019</td><td>Apr-2019</td><td>2025-01-01 07:32:...</td></tr>\n",
       "<tr><td>117566851</td><td>3677.81</td><td>4886.21</td><td>0.0</td><td>8564.02</td><td>476.89</td><td>Mar-2019</td><td>Apr-2019</td><td>2025-01-01 07:32:...</td></tr>\n",
       "<tr><td>115648172</td><td>6456.48</td><td>1769.28</td><td>0.0</td><td>8225.76</td><td>454.51</td><td>Mar-2019</td><td>Apr-2019</td><td>2025-01-01 07:32:...</td></tr>\n",
       "<tr><td>115354924</td><td>28000.0</td><td>2612.93</td><td>0.0</td><td>30612.936</td><td>22262.75</td><td>Jul-2018</td><td>null</td><td>2025-01-01 07:32:...</td></tr>\n",
       "<tr><td>118216367</td><td>19200.0</td><td>1598.26</td><td>0.0</td><td>20798.256</td><td>17143.24</td><td>Jul-2018</td><td>null</td><td>2025-01-01 07:32:...</td></tr>\n",
       "<tr><td>118209104</td><td>9043.79</td><td>8070.47</td><td>0.0</td><td>17114.26</td><td>952.65</td><td>Mar-2019</td><td>Apr-2019</td><td>2025-01-01 07:32:...</td></tr>\n",
       "<tr><td>118193433</td><td>2043.26</td><td>2730.2</td><td>0.0</td><td>4773.46</td><td>264.94</td><td>Mar-2019</td><td>Apr-2019</td><td>2025-01-01 07:32:...</td></tr>\n",
       "<tr><td>118188718</td><td>8000.0</td><td>1341.8</td><td>0.0</td><td>9341.797</td><td>4694.48</td><td>Mar-2019</td><td>null</td><td>2025-01-01 07:32:...</td></tr>\n",
       "<tr><td>116868788</td><td>2755.99</td><td>776.53</td><td>0.0</td><td>3532.52</td><td>196.18</td><td>Mar-2019</td><td>Apr-2019</td><td>2025-01-01 07:32:...</td></tr>\n",
       "<tr><td>116264178</td><td>3406.16</td><td>605.14</td><td>0.0</td><td>4011.3</td><td>223.01</td><td>Mar-2019</td><td>Apr-2019</td><td>2025-01-01 07:32:...</td></tr>\n",
       "<tr><td>117616063</td><td>2821.57</td><td>558.69</td><td>0.0</td><td>3380.26</td><td>187.94</td><td>Mar-2019</td><td>Apr-2019</td><td>2025-01-01 07:32:...</td></tr>\n",
       "</table>\n",
       "only showing top 20 rows\n"
      ],
      "text/plain": [
       "+---------+------------------------+-----------------------+-----------------------+----------------------+-------------------+-----------------+-----------------+--------------------+\n",
       "|  loan_id|total_principal_received|total_interest_received|total_late_fee_received|total_payment_received|last_payment_amount|last_payment_date|next_payment_date|         ingest_date|\n",
       "+---------+------------------------+-----------------------+-----------------------+----------------------+-------------------+-----------------+-----------------+--------------------+\n",
       "|118184277|                  4500.0|                 309.83|                    0.0|              4809.827|            3136.06|         Oct-2018|             null|2025-01-01 07:32:...|\n",
       "|117289602|                 1851.99|                 466.72|                    0.0|               2318.71|             128.94|         Mar-2019|         Apr-2019|2025-01-01 07:32:...|\n",
       "|118216186|                 4593.79|                1285.61|                    0.0|                5879.4|             326.97|         Mar-2019|         Apr-2019|2025-01-01 07:32:...|\n",
       "|117584790|                 20000.0|                1638.12|                    0.0|             21638.121|           16960.53|         May-2018|             null|2025-01-01 07:32:...|\n",
       "|118208834|                 7053.74|                1396.74|                    0.0|               8450.48|             469.84|         Mar-2019|         Apr-2019|2025-01-01 07:32:...|\n",
       "|117566588|                 4888.37|                3811.19|                    0.0|               8699.56|             484.19|         Mar-2019|         Apr-2019|2025-01-01 07:32:...|\n",
       "|118221134|                  2261.1|                 2017.6|                    0.0|                4278.7|             238.17|         Mar-2019|         Apr-2019|2025-01-01 07:32:...|\n",
       "|118183021|                 2688.72|                 345.32|                    0.0|               3034.04|             168.65|         Mar-2019|         Apr-2019|2025-01-01 07:32:...|\n",
       "|118209005|                 7567.78|                1346.25|                    0.0|               8914.03|             495.58|         Mar-2019|         Apr-2019|2025-01-01 07:32:...|\n",
       "|118214952|                 3291.77|                 651.81|                    0.0|               3943.58|             219.26|         Mar-2019|         Apr-2019|2025-01-01 07:32:...|\n",
       "|117566851|                 3677.81|                4886.21|                    0.0|               8564.02|             476.89|         Mar-2019|         Apr-2019|2025-01-01 07:32:...|\n",
       "|115648172|                 6456.48|                1769.28|                    0.0|               8225.76|             454.51|         Mar-2019|         Apr-2019|2025-01-01 07:32:...|\n",
       "|115354924|                 28000.0|                2612.93|                    0.0|             30612.936|           22262.75|         Jul-2018|             null|2025-01-01 07:32:...|\n",
       "|118216367|                 19200.0|                1598.26|                    0.0|             20798.256|           17143.24|         Jul-2018|             null|2025-01-01 07:32:...|\n",
       "|118209104|                 9043.79|                8070.47|                    0.0|              17114.26|             952.65|         Mar-2019|         Apr-2019|2025-01-01 07:32:...|\n",
       "|118193433|                 2043.26|                 2730.2|                    0.0|               4773.46|             264.94|         Mar-2019|         Apr-2019|2025-01-01 07:32:...|\n",
       "|118188718|                  8000.0|                 1341.8|                    0.0|              9341.797|            4694.48|         Mar-2019|             null|2025-01-01 07:32:...|\n",
       "|116868788|                 2755.99|                 776.53|                    0.0|               3532.52|             196.18|         Mar-2019|         Apr-2019|2025-01-01 07:32:...|\n",
       "|116264178|                 3406.16|                 605.14|                    0.0|                4011.3|             223.01|         Mar-2019|         Apr-2019|2025-01-01 07:32:...|\n",
       "|117616063|                 2821.57|                 558.69|                    0.0|               3380.26|             187.94|         Mar-2019|         Apr-2019|2025-01-01 07:32:...|\n",
       "+---------+------------------------+-----------------------+-----------------------+----------------------+-------------------+-----------------+-----------------+--------------------+\n",
       "only showing top 20 rows"
      ]
     },
     "execution_count": 53,
     "metadata": {},
     "output_type": "execute_result"
    }
   ],
   "source": [
    "spark.sql(\"select * from itv015278_lending_club.loans_repayments\")"
   ]
  },
  {
   "cell_type": "code",
   "execution_count": null,
   "id": "d4d9c315",
   "metadata": {},
   "outputs": [],
   "source": []
  },
  {
   "cell_type": "code",
   "execution_count": 41,
   "id": "b1e4c787",
   "metadata": {},
   "outputs": [],
   "source": [
    "spark.stop()"
   ]
  },
  {
   "cell_type": "code",
   "execution_count": null,
   "id": "151b401a",
   "metadata": {},
   "outputs": [],
   "source": []
  }
 ],
 "metadata": {
  "kernelspec": {
   "display_name": "Pyspark 3",
   "language": "python",
   "name": "pyspark3"
  },
  "language_info": {
   "codemirror_mode": {
    "name": "ipython",
    "version": 3
   },
   "file_extension": ".py",
   "mimetype": "text/x-python",
   "name": "python",
   "nbconvert_exporter": "python",
   "pygments_lexer": "ipython3",
   "version": "3.6.12"
  }
 },
 "nbformat": 4,
 "nbformat_minor": 5
}
